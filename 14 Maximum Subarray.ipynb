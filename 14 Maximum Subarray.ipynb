{
  "nbformat": 4,
  "nbformat_minor": 0,
  "metadata": {
    "colab": {
      "name": "14 Maximum Subarray",
      "provenance": [],
      "authorship_tag": "ABX9TyNArh9OQ6oS1nn2CjpMa607",
      "include_colab_link": true
    },
    "kernelspec": {
      "name": "python3",
      "display_name": "Python 3"
    },
    "language_info": {
      "name": "python"
    }
  },
  "cells": [
    {
      "cell_type": "markdown",
      "metadata": {
        "id": "view-in-github",
        "colab_type": "text"
      },
      "source": [
        "<a href=\"https://colab.research.google.com/github/kamakshidasan/anice/blob/main/14%20Maximum%20Subarray.ipynb\" target=\"_parent\"><img src=\"https://colab.research.google.com/assets/colab-badge.svg\" alt=\"Open In Colab\"/></a>"
      ]
    },
    {
      "cell_type": "markdown",
      "source": [
        "https://leetcode.com/problems/maximum-subarray/"
      ],
      "metadata": {
        "id": "44OaYUcpUS1J"
      }
    },
    {
      "cell_type": "markdown",
      "source": [
        "# Question\n",
        "\n",
        "Given an integer array nums, find the contiguous subarray (containing at least one number) which has the largest sum and return its sum.\n",
        "\n",
        "A subarray is a contiguous part of an array.\n",
        "\n",
        " \n",
        "\n",
        "Example 1:\n",
        "Input: nums = [-2,1,-3,4,-1,2,1,-5,4]\n",
        "Output: 6\n",
        "Explanation: [4,-1,2,1] has the largest sum = 6.\n",
        "\n",
        "<br><br>\n",
        "\n",
        "Example 2:\n",
        "Input: nums = [1]\n",
        "Output: 1\n",
        "\n",
        "<br><br>\n",
        "Example 3:\n",
        "Input: nums = [5,4,-1,7,8]\n",
        "Output: 23"
      ],
      "metadata": {
        "id": "puIeLZh-UU4y"
      }
    },
    {
      "cell_type": "markdown",
      "source": [
        "# Solution\n",
        "\n",
        "- Kadane's Algorithm\n",
        "\n",
        "- I have forgotten why it works now"
      ],
      "metadata": {
        "id": "Vsv8aYs_Uljz"
      }
    },
    {
      "cell_type": "code",
      "source": [
        "class Solution(object):\n",
        "    def maxSubArray(self, nums):\n",
        "    \n",
        "        maximum = nums[0]\n",
        "        current = nums[0]\n",
        "        \n",
        "        for i in nums[1:]:\n",
        "            value = current + i\n",
        "            if value > i:\n",
        "                current = value\n",
        "            else:\n",
        "                current = i\n",
        "            maximum = max(maximum, current)\n",
        "            \n",
        "        return maximum\n",
        "        "
      ],
      "metadata": {
        "id": "Z_Q_lb1tUwaP"
      },
      "execution_count": null,
      "outputs": []
    },
    {
      "cell_type": "markdown",
      "source": [
        "# Mistakes\n",
        "\n",
        "- Do not initialize maximum and current to zero, when there are negative values in the array\n",
        " - Instead initialize them to the first element\n",
        "\n",
        " - Input: [-1] failed"
      ],
      "metadata": {
        "id": "0zAZv20dUzC_"
      }
    }
  ]
}