{
  "nbformat": 4,
  "nbformat_minor": 0,
  "metadata": {
    "colab": {
      "name": "7 Valid Parentheses",
      "provenance": [],
      "collapsed_sections": [],
      "authorship_tag": "ABX9TyOm4YPk4tGfHP5wQPSUNL50",
      "include_colab_link": true
    },
    "kernelspec": {
      "name": "python3",
      "display_name": "Python 3"
    },
    "language_info": {
      "name": "python"
    }
  },
  "cells": [
    {
      "cell_type": "markdown",
      "metadata": {
        "id": "view-in-github",
        "colab_type": "text"
      },
      "source": [
        "<a href=\"https://colab.research.google.com/github/kamakshidasan/anice/blob/main/7%20Valid%20Parentheses.ipynb\" target=\"_parent\"><img src=\"https://colab.research.google.com/assets/colab-badge.svg\" alt=\"Open In Colab\"/></a>"
      ]
    },
    {
      "cell_type": "markdown",
      "source": [
        "https://leetcode.com/problems/valid-parentheses/"
      ],
      "metadata": {
        "id": "I6e2Qlyvwoso"
      }
    },
    {
      "cell_type": "markdown",
      "source": [
        "# Question\n",
        "\n",
        "Given a string s containing just the characters '(', ')', '{', '}', '[' and ']', determine if the input string is valid.\n",
        "\n",
        "An input string is valid if:\n",
        "\n",
        "Open brackets must be closed by the same type of brackets.\\\n",
        "Open brackets must be closed in the correct order.\n",
        "\n",
        "---"
      ],
      "metadata": {
        "id": "UxrMqHq-wp_2"
      }
    },
    {
      "cell_type": "markdown",
      "source": [
        "# Solution\n",
        "\n",
        "- In case the question just had \"(\" and \")\", then this would have been much simpler\n",
        "- But since we have '(', ')', '{', '}', '[' and '], it makes our life a little more challenging\n",
        "- Initially, I thought of assigning numbers, summing them, and negating them, but since there are more than one type of parenthesis, that would be hard to keep track of.\n",
        "- Therefore, I used a stack.\n",
        "\n",
        " - Everytime you come across an opening parenthesis, directly put on the stack\n",
        " - If you come across a closing parenthesis, check the one top\n",
        "  - If it is the same type of opening, then remove the top\n",
        "  - If it is anything else, return False "
      ],
      "metadata": {
        "id": "7g8n8rK_w9Vu"
      }
    },
    {
      "cell_type": "code",
      "source": [
        "class Solution(object):\n",
        "    def isValid(self, s):\n",
        "        \n",
        "        open_chars = set()\n",
        "        open_chars.add(\"(\")\n",
        "        open_chars.add(\"{\")\n",
        "        open_chars.add(\"[\")\n",
        "        \n",
        "        stack = []\n",
        "        \n",
        "        for character in s:\n",
        "            if character in open_chars:\n",
        "                stack.append(character)\n",
        "            else:\n",
        "                if stack:\n",
        "                    peek = stack[-1]\n",
        "                    if peek in open_chars:\n",
        "                        if peek == \"(\" and character == \")\":\n",
        "                            stack.pop()\n",
        "                        elif peek == \"{\" and character == \"}\":\n",
        "                            stack.pop()\n",
        "                        elif peek == \"[\" and character == \"]\":\n",
        "                            stack.pop()\n",
        "                        else:\n",
        "                            return False\n",
        "                else:\n",
        "                    return False\n",
        "        if len(stack) > 0:\n",
        "            return False\n",
        "        else:\n",
        "            return True\n",
        "        "
      ],
      "metadata": {
        "id": "j-iQtrs4x6m7"
      },
      "execution_count": null,
      "outputs": []
    },
    {
      "cell_type": "markdown",
      "source": [
        "# Solution 2\n",
        "\n",
        "- Instead of having so many if-else statements,\n",
        "- we can store the combinations in a hashmap, and\n",
        "- have a single if statement to check all of the conditions together\n",
        "\n",
        "This is something lovely that I learned in this question\n"
      ],
      "metadata": {
        "id": "V93uj6Gxx_0c"
      }
    },
    {
      "cell_type": "code",
      "source": [
        "class Solution(object):\n",
        "    def isValid(self, s):\n",
        "        \n",
        "        brackets = {\n",
        "            \"(\": \")\",\n",
        "            \"{\": \"}\",\n",
        "            \"[\": \"]\"\n",
        "        }\n",
        "        \n",
        "        stack = []\n",
        "        \n",
        "        for character in s:\n",
        "            if character in brackets:\n",
        "                stack.append(character)\n",
        "            else:\n",
        "                if stack:\n",
        "                    peek = stack[-1]\n",
        "                    if peek in brackets:\n",
        "                        if character == brackets[peek]:\n",
        "                            stack.pop()\n",
        "                        else:\n",
        "                            return False\n",
        "                else:\n",
        "                    return False\n",
        "                \n",
        "        return not stack\n",
        "        \n",
        "        "
      ],
      "metadata": {
        "id": "IEYL3oK0y5db"
      },
      "execution_count": null,
      "outputs": []
    },
    {
      "cell_type": "markdown",
      "source": [
        "# Mistake\n",
        "\n",
        "- When I wrote stack[-1], I forgot to check that an empty stack could exist\n",
        "\n",
        "# Takeaway\n",
        "\n",
        "- When there are muliple if-else conditions, see if you can combine them together by using a hashmap"
      ],
      "metadata": {
        "id": "LZciXNsbzA4f"
      }
    }
  ]
}