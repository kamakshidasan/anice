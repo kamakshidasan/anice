{
  "nbformat": 4,
  "nbformat_minor": 0,
  "metadata": {
    "colab": {
      "name": "57 Meeting Rooms",
      "provenance": [],
      "collapsed_sections": [],
      "authorship_tag": "ABX9TyNvwBIJnIVW0y6QFF6nnNph",
      "include_colab_link": true
    },
    "kernelspec": {
      "name": "python3",
      "display_name": "Python 3"
    },
    "language_info": {
      "name": "python"
    }
  },
  "cells": [
    {
      "cell_type": "markdown",
      "metadata": {
        "id": "view-in-github",
        "colab_type": "text"
      },
      "source": [
        "<a href=\"https://colab.research.google.com/github/kamakshidasan/anice/blob/main/57%20Meeting%20Rooms.ipynb\" target=\"_parent\"><img src=\"https://colab.research.google.com/assets/colab-badge.svg\" alt=\"Open In Colab\"/></a>"
      ]
    },
    {
      "cell_type": "markdown",
      "source": [
        "https://leetcode.com/problems/meeting-rooms"
      ],
      "metadata": {
        "id": "fw9LZjnKYfuA"
      }
    },
    {
      "cell_type": "markdown",
      "source": [
        "# Question\n",
        "\n",
        "Given an array of meeting time intervals where intervals[i] = [starti, endi], determine if a person could attend all meetings.\n",
        "<br><br>\n",
        " \n",
        "\n",
        "Example 1:\\\n",
        "Input: intervals = [[0,30],[5,10],[15,20]]\\\n",
        "Output: false\n",
        "<br><br>\n",
        "Example 2:\\\n",
        "Input: intervals = [[7,10],[2,4]]\\\n",
        "Output: true\n",
        "<br><br>\n",
        "Constraints:\\\n",
        "0 <= intervals.length <= 104\\\n",
        "intervals[i].length == 2\\\n",
        "0 <= starti < endi <= 106"
      ],
      "metadata": {
        "id": "K5rGzJCMYipI"
      }
    },
    {
      "cell_type": "markdown",
      "source": [
        "# Solution\n",
        "\n",
        "- Think of the person jumping like a spring from one block to another like a game\n",
        "- The person can only jump forward if the block is after the end of the current block\n",
        "- If the next block is before the end of the block, then you can't attend all the meetings and return False"
      ],
      "metadata": {
        "id": "i28-iKe7ZEm3"
      }
    },
    {
      "cell_type": "code",
      "source": [
        "class Solution(object):\n",
        "    def canAttendMeetings(self, intervals):\n",
        "        \n",
        "        intervals = sorted(intervals, key=lambda x: x[0])\n",
        "        current = 0\n",
        "        \n",
        "        for interval in intervals:\n",
        "            [start_interval, stop_interval] = interval\n",
        "            if start_interval >= current:\n",
        "                current = stop_interval\n",
        "            else:\n",
        "                return False\n",
        "        return True"
      ],
      "metadata": {
        "id": "jeguA3BAZsaO"
      },
      "execution_count": null,
      "outputs": []
    },
    {
      "cell_type": "markdown",
      "source": [
        "# Mistake\n",
        "\n",
        "- Apparently, the intervals are written like [a,b)\n",
        "- So if you the next interval is [b,c), you can attend that one as well\n",
        "- This is solved by using adding equal to in the if condition\n",
        "\n",
        "# Takeaway\n",
        "\n",
        "- Do not be afraid of the lambda key operator while sorting\n",
        "\n",
        "- Think of lambda as just a function, that doesn't mess up the rest of the code, and gives out a tuple that is bound to each element\n",
        " - There is a wonderful article over here: https://stackoverflow.com/questions/8966538/syntax-behind-sortedkey-lambda\n",
        "\n",
        " - Here a few examples:\n",
        "\n"
      ],
      "metadata": {
        "id": "BTSg9IdYZ0NP"
      }
    },
    {
      "cell_type": "code",
      "source": [
        "user = [{\"name\": \"Dough\", \"age\": 55}, \n",
        "        {\"name\": \"Ben\", \"age\": 44}, \n",
        "        {\"name\": \"Citrus\", \"age\": 33},\n",
        "        {\"name\": \"Abdullah\", \"age\":22}\n",
        "      ]\n",
        "print(sorted(user, key=lambda el: el[\"name\"]))\n",
        "print(sorted(user, key= lambda y: y[\"age\"]))"
      ],
      "metadata": {
        "colab": {
          "base_uri": "https://localhost:8080/"
        },
        "id": "c6CaIKNlbSZs",
        "outputId": "c38055c1-35ff-4cd7-dab7-ae3bf2452d86"
      },
      "execution_count": 5,
      "outputs": [
        {
          "output_type": "stream",
          "name": "stdout",
          "text": [
            "[{'name': 'Abdullah', 'age': 22}, {'name': 'Ben', 'age': 44}, {'name': 'Citrus', 'age': 33}, {'name': 'Dough', 'age': 55}]\n",
            "[{'name': 'Abdullah', 'age': 22}, {'name': 'Citrus', 'age': 33}, {'name': 'Ben', 'age': 44}, {'name': 'Dough', 'age': 55}]\n"
          ]
        }
      ]
    },
    {
      "cell_type": "code",
      "source": [
        "people = [[7,0],[4,4],[7,1],[5,0],[6,1],[5,2]]\n",
        "people_sort = sorted(people, key = lambda x: (-x[0], x[1]))\n",
        "print(people_sort)"
      ],
      "metadata": {
        "colab": {
          "base_uri": "https://localhost:8080/"
        },
        "id": "PfMmEnK5bewO",
        "outputId": "dfe54f40-ec1e-482d-9a57-c0709ac47f10"
      },
      "execution_count": 6,
      "outputs": [
        {
          "output_type": "stream",
          "name": "stdout",
          "text": [
            "[[7, 0], [7, 1], [6, 1], [5, 0], [5, 2], [4, 4]]\n"
          ]
        }
      ]
    },
    {
      "cell_type": "code",
      "source": [
        "values = [(6,2), (5,4), (3,2), (3,5), (3,1), (5,5)]\n",
        "print(sorted(values))"
      ],
      "metadata": {
        "colab": {
          "base_uri": "https://localhost:8080/"
        },
        "id": "LRQqpKVMcekk",
        "outputId": "bd1c0135-ffa9-4dee-f576-ff514828748b"
      },
      "execution_count": 9,
      "outputs": [
        {
          "output_type": "stream",
          "name": "stdout",
          "text": [
            "[(3, 1), (3, 2), (3, 5), (5, 4), (5, 5), (6, 2)]\n"
          ]
        }
      ]
    }
  ]
}