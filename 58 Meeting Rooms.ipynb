{
  "nbformat": 4,
  "nbformat_minor": 0,
  "metadata": {
    "colab": {
      "name": "58 Meeting Rooms",
      "provenance": [],
      "collapsed_sections": [],
      "authorship_tag": "ABX9TyPBsc41wgdduhh6qj/k2h/A",
      "include_colab_link": true
    },
    "kernelspec": {
      "name": "python3",
      "display_name": "Python 3"
    },
    "language_info": {
      "name": "python"
    }
  },
  "cells": [
    {
      "cell_type": "markdown",
      "metadata": {
        "id": "view-in-github",
        "colab_type": "text"
      },
      "source": [
        "<a href=\"https://colab.research.google.com/github/kamakshidasan/anice/blob/main/58%20Meeting%20Rooms.ipynb\" target=\"_parent\"><img src=\"https://colab.research.google.com/assets/colab-badge.svg\" alt=\"Open In Colab\"/></a>"
      ]
    },
    {
      "cell_type": "markdown",
      "source": [
        "https://leetcode.com/problems/meeting-rooms-ii/\n"
      ],
      "metadata": {
        "id": "zmuAcWihb6NC"
      }
    },
    {
      "cell_type": "markdown",
      "source": [
        "# Question\n",
        "\n",
        "Given an array of meeting time intervals intervals where intervals[i] = [starti, endi], return the minimum number of conference rooms required.\n",
        "<br><br>\n",
        " \n",
        "\n",
        "Example 1:\n",
        "\n",
        "Input: intervals = [[0,30],[5,10],[15,20]]\n",
        "Output: 2\n",
        "\n",
        "<br><br>\n",
        "\n",
        "Example 2:\n",
        "Input: intervals = [[7,10],[2,4]]\n",
        "Output: 1\n",
        " \n",
        "<br><br>\n",
        "Constraints:\n",
        "1 <= intervals.length <= 104\n",
        "0 <= starti < endi <= 106"
      ],
      "metadata": {
        "id": "vHFXd6HWb8Iq"
      }
    },
    {
      "cell_type": "markdown",
      "source": [
        "# Idea\n",
        "\n",
        "- If you're able to find a room r1 for interval i1 [x1, y1]\n",
        " - then for interval i2 [x2, y2]\n",
        " - if y2 < x1,\n",
        " - interval i2 can occupy room r1\n",
        "\n",
        "- So you don't have to think about optimal allocations. If the above condition is satisfied, then, give the interval any room\n",
        "\n",
        "- All you will have to check is\n",
        "\n",
        " - \" Is there a room that has it's starting interval [x] greater than current interval's end [y]\" (if you go from behind [the intervals are sorted decreasingly])\n",
        "\n",
        "  - or conversely\n",
        "\n",
        " - \"Is there a room that has it's ending interval [y] lesser than current interval's start [x]\" (if you go from start [the intervals are sorted ascendingly])\n",
        "\n",
        "\n",
        "\n",
        "\n",
        "\n",
        "# Solution\n",
        "\n",
        "- Sort the intervals from descending order\n",
        " - that way, we process from the end of time to the start\n",
        "\n",
        "- In a list store the starting time of an interval [x]\n",
        " - make sure this list is always sorted [otherwise I should perform some binary search - just to see if there is a larger element]\n",
        "\n",
        "- Iterate across the intervals\n",
        " - If I want to find out if I can occupy an already existing room, just check if there is any entry in the list [x's] that is greater than the end of current interval [y's]\n",
        " - Since the list is always sorted, this check can be performed by just looking at the last element\n",
        "  - If you can occupy the last room, replace this with current interval's start [x]\n",
        "\n",
        "- Otherwise, you will have to create a new room, and therefore add start of current interval [x]\n",
        "\n",
        "- Sort the list of rooms, so that each time all you will have to do is look at the last entry to check if there is a greater element\n"
      ],
      "metadata": {
        "id": "DizqSmevcLvT"
      }
    },
    {
      "cell_type": "code",
      "source": [
        "class Solution(object):\n",
        "    def minMeetingRooms(self, intervals):\n",
        "        \n",
        "        intervals = sorted(intervals, key = lambda x: (-x[1], -x[0]))\n",
        "        rooms = []\n",
        "        \n",
        "        for interval in intervals:\n",
        "            [x, y] = interval\n",
        "            \n",
        "            if rooms:\n",
        "                last = rooms[-1]\n",
        "                if last >= y:\n",
        "                    rooms[-1] = x\n",
        "                else:\n",
        "                    rooms.append(x)\n",
        "            else:\n",
        "                rooms.append(x)\n",
        "            \n",
        "            # sort is in-place, not sorted\n",
        "            rooms = sorted(rooms)\n",
        "            \n",
        "        return len(rooms)"
      ],
      "metadata": {
        "id": "HYvNOw5lg_Uy"
      },
      "execution_count": null,
      "outputs": []
    },
    {
      "cell_type": "markdown",
      "source": [
        "# Takeaway\n",
        "\n",
        "- If you need to maintain something to be sorted at the end of each iteration, then it is better to have a heap data-structure"
      ],
      "metadata": {
        "id": "cqHKeL6MhGMK"
      }
    },
    {
      "cell_type": "markdown",
      "source": [
        "# Idea 2\n",
        "\n",
        "- Apparently the way Python supports a max-heap, is by inverting values, so just replacing the above code with negative values and lesser than condition checks didn't look really good.\n",
        "\n",
        "- So I had to invert the logic itself"
      ],
      "metadata": {
        "id": "PSTYl4bxhTwS"
      }
    },
    {
      "cell_type": "markdown",
      "source": [
        "# Solution 2\n",
        "\n",
        "- Sort the intervals in ascending order\n",
        "- Create a min-heap for storing an interval's end [y]\n",
        "- Iterate across the intervals\n",
        " - If there exists an element in the heap [y] which is lesser than the current interval's start [x], then the current interval can occupy that room represented in the heap\n",
        "  - Current interval: [x2, y2], Heap: [x1, y1], and if y1 < x2, the room has been finished for occupation and now can be used\n",
        "  - Replace the smallest element with current intervals end [y]\n",
        " - In any other case, just add the end of current interval to the heap [y]\n",
        "\n",
        "- Return how many rooms are left in the end\n",
        "\n"
      ],
      "metadata": {
        "id": "XAx-l8ujhqBv"
      }
    },
    {
      "cell_type": "code",
      "source": [
        "import heapq\n",
        "\n",
        "class Solution(object):\n",
        "    def minMeetingRooms(self, intervals):\n",
        "        \n",
        "        intervals = sorted(intervals, key = lambda x: (x[0], x[1]))\n",
        "        rooms = []\n",
        "        \n",
        "        for interval in intervals:\n",
        "            [x, y] = interval\n",
        "            \n",
        "            if rooms:\n",
        "                first = rooms[0]\n",
        "                if first <= x:\n",
        "                    heapq.heapreplace(rooms, y)\n",
        "                else:\n",
        "                    heapq.heappush(rooms, y)\n",
        "            else:\n",
        "                heapq.heappush(rooms, y)\n",
        "\n",
        "        return len(rooms)"
      ],
      "metadata": {
        "id": "3-Oe1ulFjeQs"
      },
      "execution_count": null,
      "outputs": []
    },
    {
      "cell_type": "markdown",
      "source": [
        "# Mistake 1\n",
        "\n",
        "- sort is in-place and not sorted\n",
        "\n",
        "# Mistake 2\n",
        "\n",
        "- On my paper, I wrote find a value that is just greater than equal to search constraint in the array\n",
        "\n",
        "- Immediately, I started to write a modified binary search for finding just greater element\n",
        "\n",
        "- It honestly led no where\n",
        "\n",
        "- If I had thought for few more seconds, I would have figured out\n",
        " - I didn't need the index or value of an such element\n",
        " - But rather just the existence of such an element\n",
        "\n",
        "- For finding out the existence of such an element, all I needed was a sorted array that stored the maximum element\n",
        "\n",
        "- The moment I knew I didn't have to write binary search, I thought I could just maintain a sorted list at the end of each iteration\n",
        "\n",
        "- That led to Mistake 3\n",
        "\n",
        "# Mistake 3\n",
        "\n",
        "- If you need to maintain a sorted list everytime during an iterative process, use a heap\n",
        " - anything else will take more time\n",
        "\n",
        "# Mistake 4\n",
        "\n",
        "- Python has an inbuilt implementation of a heap [import heapq]\n",
        "- All you will need is a list and you can apply heapq on top of it"
      ],
      "metadata": {
        "id": "FKLQIBpKjgKS"
      }
    },
    {
      "cell_type": "code",
      "source": [
        "import heapq\n",
        "\n",
        "H = [21,1,45,78,3,5]\n",
        "print(\"initial\", H)\n",
        "\n",
        "# Use heapify to rearrange the elements\n",
        "heapq.heapify(H)\n",
        "print(\"min-heapify\", H)\n",
        "\n",
        "heapq.heappush(H, 8)\n",
        "print(\"push\", H)\n",
        "\n",
        "# Remove element from the heap\n",
        "heapq.heappop(H)\n",
        "print(\"pop\", H)\n",
        "\n",
        "# Replace the element at the top and then perform heapify\n",
        "heapq.heapreplace(H, 6)\n",
        "print(\"replace\", H)\n",
        "\n",
        "def heapsort(iterable):\n",
        "  h = []\n",
        "  for value in iterable:\n",
        "    heapq.heappush(h, value)\n",
        "\n",
        "  # pop the first element out and dump it into a list   \n",
        "  return [heapq.heappop(h) for i in range(len(h))]\n",
        "\n",
        "print(\"heapsort\", heapsort([1, 3, 5, 7, 9, 2, 4, 6, 8, 0]))\n",
        "\n",
        "print(\"notice that each of heap functions start with heap: heappush, heappop, heapreplace, heapify\")\n",
        "print(\"the calling method is heapq.heapSOMETHING(*list variable*, element)\")\n"
      ],
      "metadata": {
        "colab": {
          "base_uri": "https://localhost:8080/"
        },
        "id": "T55kdhMulgAU",
        "outputId": "f3336462-c965-4834-df4e-611194aaeb90"
      },
      "execution_count": null,
      "outputs": [
        {
          "output_type": "stream",
          "name": "stdout",
          "text": [
            "initial [21, 1, 45, 78, 3, 5]\n",
            "min-heapify [1, 3, 5, 78, 21, 45]\n",
            "push [1, 3, 5, 78, 21, 45, 8]\n",
            "pop [3, 8, 5, 78, 21, 45]\n",
            "replace [5, 8, 6, 78, 21, 45]\n",
            "heapsort [0, 1, 2, 3, 4, 5, 6, 7, 8, 9]\n",
            "notice that each of heap functions start with heap: heappush, heappop, heapreplace, heapify\n",
            "the calling method is heapq.heapSOMETHING(*list variable*, element)\n"
          ]
        }
      ]
    },
    {
      "cell_type": "markdown",
      "source": [
        "# Mistake 5\n",
        "\n",
        "- Python only provides a min-heap\n",
        " - if you want to use a max-heap, you will to invert the values\n",
        " - instead of all that, it is better if you invert the logic and use Python's implementation of a min-heap"
      ],
      "metadata": {
        "id": "tjhCdQIRlgb5"
      }
    },
    {
      "cell_type": "markdown",
      "source": [
        "# Revision\n",
        "\n",
        "- I inverted the x and y's in the solution\n",
        "\n",
        "      if rooms:\n",
        "          first = rooms[0]\n",
        "          if first <= x:\n",
        "              heapq.heapreplace(rooms, y)\n",
        "          else:\n",
        "              heapq.heappush(rooms, y)\n",
        "      else:\n",
        "          heapq.heappush(rooms, y)"
      ],
      "metadata": {
        "id": "7Aq52sIK1h9B"
      }
    }
  ]
}