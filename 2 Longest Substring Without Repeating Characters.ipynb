{
  "nbformat": 4,
  "nbformat_minor": 0,
  "metadata": {
    "colab": {
      "name": "2 Longest Substring Without Repeating Characters.ipynb",
      "provenance": [],
      "collapsed_sections": [],
      "authorship_tag": "ABX9TyNsGlb0pvK3yGp17wKPa3tZ",
      "include_colab_link": true
    },
    "kernelspec": {
      "name": "python3",
      "display_name": "Python 3"
    },
    "language_info": {
      "name": "python"
    }
  },
  "cells": [
    {
      "cell_type": "markdown",
      "metadata": {
        "id": "view-in-github",
        "colab_type": "text"
      },
      "source": [
        "<a href=\"https://colab.research.google.com/github/kamakshidasan/anice/blob/main/2%20Longest%20Substring%20Without%20Repeating%20Characters.ipynb\" target=\"_parent\"><img src=\"https://colab.research.google.com/assets/colab-badge.svg\" alt=\"Open In Colab\"/></a>"
      ]
    },
    {
      "cell_type": "markdown",
      "source": [
        "https://leetcode.com/problems/longest-substring-without-repeating-characters/\n",
        "---"
      ],
      "metadata": {
        "id": "XvqdBSGYQCCn"
      }
    },
    {
      "cell_type": "markdown",
      "source": [
        "\n",
        "\n",
        "Given a string s, find the length of the longest substring without repeating characters.\n",
        "\n",
        " \n",
        "\n",
        "Example 1:\n",
        "\n",
        "Input: s = \"abcabcbb\"\n",
        "Output: 3\n",
        "Explanation: The answer is \"abc\", with the length of 3.\n",
        "Example 2:\n",
        "\n",
        "Input: s = \"bbbbb\"\n",
        "Output: 1\n",
        "Explanation: The answer is \"b\", with the length of 1.\n",
        "Example 3:\n",
        "\n",
        "Input: s = \"pwwkew\"\n",
        "Output: 3\n",
        "Explanation: The answer is \"wke\", with the length of 3.\n",
        "Notice that the answer must be a substring, \"pwke\" is a subsequence and not a substring.\n",
        " \n",
        "\n",
        "Constraints:\n",
        "\n",
        "0 <= s.length <= 5 * 104\n",
        "s consists of English letters, digits, symbols and spaces.\n",
        "\n",
        "---"
      ],
      "metadata": {
        "id": "KUOxjBjtKoZp"
      }
    },
    {
      "cell_type": "markdown",
      "source": [
        "# Solution\n",
        "\n",
        "- Have two pointers \"start\" and \"end\", both at the beginning of the array\n",
        "- For each element store the \"previously seen\" index\n",
        "\n",
        "- Loop over the array\n",
        " - Whenever you see an element that has not been seen so far, that's okay, that can be included in the current longest substring\n",
        " - Whenever you see an element that has been seen,\n",
        "   - See whether the \"previously seen\" index is before the starting element\n",
        "     - If yes, that's okay, since current longest substring starts anyway after that \"previously seen\" index, and hence the current substring can just grow by adding this element as well\n",
        "     - If not, the current longest substring cannot contain this element now. So you want to start from the next element of the \"previously seen\" index, and go all the way upto the current index."
      ],
      "metadata": {
        "id": "9uwC7Q4zLFU9"
      }
    },
    {
      "cell_type": "markdown",
      "source": [
        ""
      ],
      "metadata": {
        "id": "C6TQOb_qOQ9-"
      }
    },
    {
      "cell_type": "code",
      "source": [
        "class Solution(object):\n",
        "    def lengthOfLongestSubstring(self, s):\n",
        "        \n",
        "        previous = {}\n",
        "        start = 0\n",
        "        length = 0\n",
        "        \n",
        "        for end, character in enumerate(list(s)):\n",
        "            if character in previous:\n",
        "                if previous[character] >= start:\n",
        "                    start = previous[character] + 1\n",
        "                    \n",
        "            previous[character] = end\n",
        "            length = max(length, end+1-start)        \n",
        "        return length"
      ],
      "metadata": {
        "id": "q9YFRjACOR2V"
      },
      "execution_count": null,
      "outputs": []
    },
    {
      "cell_type": "markdown",
      "source": [
        "---\n",
        "# Mistakes\n",
        "\n",
        "- I only initialized the hashmap during the initial phase, after that I forgot to update it both\n",
        " - generally\n",
        " - inside other conditions\n",
        "\n",
        "This would have saved me a lot of time\n",
        "\n",
        "---\n",
        "# Learning\n",
        "\n",
        "If I write out what I want in \"plain\" English and create a small flowchart, instead of thinking in code, that made me get to a solution faster\n",
        "\n",
        "For instance, questions such as, \n",
        "- \"Can you continue? A: no.\"\n",
        "- \"where can you start? A: next to previous found\"\n",
        "- \"what if between \"next to previous found\" and \"second\" there are repeating letters?\"\n",
        "- \"so how do you shift the first pointer?\"\n",
        "\n",
        "---\n",
        "# Premise or Invariant\n",
        "\n",
        "If you have an existing longest substring, and by concatenating another character c to this substring,\n",
        "- if this character c is already present as c' in the longest substring, \n",
        "  - then,\n",
        "   - no characters before c' can be part of the newer substring\n",
        "\n",
        "\n",
        "  \n"
      ],
      "metadata": {
        "id": "uM0kPCCtOVda"
      }
    },
    {
      "cell_type": "markdown",
      "source": [
        ""
      ],
      "metadata": {
        "id": "6d67YQpocNyP"
      }
    }
  ]
}