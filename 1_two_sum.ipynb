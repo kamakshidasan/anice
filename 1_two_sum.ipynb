{
  "nbformat": 4,
  "nbformat_minor": 0,
  "metadata": {
    "colab": {
      "name": "1-two-sum.ipynb",
      "provenance": [],
      "collapsed_sections": [
        "xHGNdFI9uLXI"
      ],
      "authorship_tag": "ABX9TyPBsmT6FF13O9tvVmHVJx6S",
      "include_colab_link": true
    },
    "kernelspec": {
      "name": "python3",
      "display_name": "Python 3"
    },
    "language_info": {
      "name": "python"
    }
  },
  "cells": [
    {
      "cell_type": "markdown",
      "metadata": {
        "id": "view-in-github",
        "colab_type": "text"
      },
      "source": [
        "<a href=\"https://colab.research.google.com/github/kamakshidasan/anice/blob/main/1_two_sum.ipynb\" target=\"_parent\"><img src=\"https://colab.research.google.com/assets/colab-badge.svg\" alt=\"Open In Colab\"/></a>"
      ]
    },
    {
      "cell_type": "markdown",
      "source": [
        "https://leetcode.com/problems/two-sum/"
      ],
      "metadata": {
        "id": "jqqY5nHwQfMQ"
      }
    },
    {
      "cell_type": "markdown",
      "source": [
        "Given an array of integers nums and an integer target, return indices of the two numbers such that they add up to target.\n",
        "\n",
        "You may assume that each input would have exactly one solution, and you may not use the same element twice.\n",
        "\n",
        "You can return the answer in any order.\n",
        "\n",
        " \n",
        "\n",
        "Example 1:\n",
        "\n",
        "Input: nums = [2,7,11,15], target = 9  \n",
        "Output: [0,1]  \n",
        "Explanation: Because nums[0] + nums[1] == 9, we return [0, 1].  \n",
        "\n",
        "\n",
        "Example 2:  \n",
        "\n",
        "Input: nums = [3,2,4], target = 6  \n",
        "Output: [1,2]  \n",
        "  \n",
        "Example 3:\n",
        "\n",
        "Input: nums = [3,3], target = 6  \n",
        "Output: [0,1]\n",
        "\n",
        "---"
      ],
      "metadata": {
        "id": "OsUX6TKaptkH"
      }
    },
    {
      "cell_type": "markdown",
      "source": [
        "##Idea 1:\n",
        "\n",
        "- Iterate across the array\n",
        "- Store each number in a hashmap\n",
        "\n",
        "- Iterate the array again\n",
        "- Then check if target minus a[i] is present in the hashmap\n",
        "\n",
        "  \n",
        "##Failure 1:\n",
        "\n",
        "- When I store each number in a hashmap, I overwrite the previous instance(s)\n",
        "- So, while printing in the second iteration, say current iteration index and target index\n",
        " - Instead of, a[value] and a[target - value]\n",
        "\n",
        "##Failure 2:\n",
        "\n",
        "- make sure the same hashmap index is not returned\n",
        "\n",
        "---"
      ],
      "metadata": {
        "id": "NIr1Hmg9qgQP"
      }
    },
    {
      "cell_type": "code",
      "source": [
        "class Solution(object):\n",
        "    def twoSum(self, nums, target):\n",
        "        \n",
        "        a = {}\n",
        "        \n",
        "        for index, num in enumerate(nums):\n",
        "            a[num] = index\n",
        "            \n",
        "        for index, num in enumerate(nums):\n",
        "            value = target - num\n",
        "            if value in a:\n",
        "                if a[value] is not index:\n",
        "                    return [index, a[value]]"
      ],
      "metadata": {
        "id": "1Ybtjxm8vQd5"
      },
      "execution_count": null,
      "outputs": []
    },
    {
      "cell_type": "markdown",
      "source": [
        "It turns out you can do this one pass also\n",
        "\n",
        "##Learning:\n",
        "\n",
        "- If you have two traversals:\n",
        " - one for creating a hashmap\n",
        " - one for checking that hashmap\n",
        "\n",
        "see if you can have just have one traversal, so that you can check the hashmap while creating the hashmap"
      ],
      "metadata": {
        "id": "xHGNdFI9uLXI"
      }
    },
    {
      "cell_type": "code",
      "source": [
        "class Solution(object):\n",
        "    def twoSum(self, nums, target):\n",
        "        \n",
        "        a = {}\n",
        "        \n",
        "        for index, num in enumerate(nums):\n",
        "            value = target - num\n",
        "            if value in a:\n",
        "                return [index, a[value]]\n",
        "            else:\n",
        "                a[num] = index"
      ],
      "metadata": {
        "id": "azjau24wu6V5"
      },
      "execution_count": null,
      "outputs": []
    }
  ]
}