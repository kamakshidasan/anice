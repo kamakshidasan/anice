{
  "nbformat": 4,
  "nbformat_minor": 0,
  "metadata": {
    "colab": {
      "name": "5 Prelim Two Sum II - Input Array Is Sorted",
      "provenance": [],
      "collapsed_sections": [],
      "authorship_tag": "ABX9TyPivqDHKB3U1heX4GFmMs/N",
      "include_colab_link": true
    },
    "kernelspec": {
      "name": "python3",
      "display_name": "Python 3"
    },
    "language_info": {
      "name": "python"
    }
  },
  "cells": [
    {
      "cell_type": "markdown",
      "metadata": {
        "id": "view-in-github",
        "colab_type": "text"
      },
      "source": [
        "<a href=\"https://colab.research.google.com/github/kamakshidasan/anice/blob/main/5%20%5BPrelim%5D%20Two%20Sum%20II%20Input_Array%20Is%20Sorted.ipynb\" target=\"_parent\"><img src=\"https://colab.research.google.com/assets/colab-badge.svg\" alt=\"Open In Colab\"/></a>"
      ]
    },
    {
      "cell_type": "markdown",
      "source": [
        "https://leetcode.com/problems/two-sum-ii-input-array-is-sorted/"
      ],
      "metadata": {
        "id": "J6E4MWQ_cL7R"
      }
    },
    {
      "cell_type": "markdown",
      "source": [
        "#Question\n",
        "\n",
        "Given a 1-indexed array of integers numbers that is already sorted in non-decreasing order, find two numbers such that they add up to a specific target number. Let these two numbers be numbers[index1] and numbers[index2] where 1 <= index1 < index2 <= numbers.length.\n",
        "\n",
        "Return the indices of the two numbers, index1 and index2, added by one as an integer array [index1, index2] of length 2.\n",
        "\n",
        "The tests are generated such that there is exactly one solution. You may not use the same element twice.\n",
        "\n",
        "Your solution must use only constant extra space.\n",
        "\n",
        " \n",
        "\n",
        "Example 1:\n",
        "\n",
        "Input: numbers = [2,7,11,15], target = 9\n",
        "Output: [1,2]\\\n",
        "Explanation: The sum of 2 and 7 is 9. Therefore, index1 = 1, index2 = 2.\\\n",
        "We return [1, 2].\n",
        "\n",
        "Example 2:\n",
        "Input: numbers = [2,3,4], target = 6\\\n",
        "Output: [1,3]\\\n",
        "Explanation: The sum of 2 and 4 is 6. Therefore index1 = 1, index2 = 3.\\\n",
        "We return [1, 3].\n",
        "\n",
        "Example 3:\n",
        "Input: numbers = [-1,0], target = -1\\\n",
        "Output: [1,2]\\\n",
        "Explanation: The sum of -1 and 0 is -1. Therefore index1 = 1, index2 = 2.\\\n",
        "We return [1, 2].\n",
        " \n",
        "\n",
        "Constraints:\n",
        "\n",
        "2 <= numbers.length <= 3 * 104\\\n",
        "-1000 <= numbers[i] <= 10001\\\n",
        "numbers is sorted in non-decreasing order.\\\n",
        "-1000 <= target <= 1000\\\n",
        "The tests are generated such that there is exactly one solution."
      ],
      "metadata": {
        "id": "k0w_WHG1XU68"
      }
    },
    {
      "cell_type": "markdown",
      "source": [
        "#Solution\n",
        "\n",
        "## Idea 1\n",
        "- First idea was to use same principle of normal Two Sum with a hashmap\n",
        "- I just felt I could store the index of each number in a hashmap, and then check each number with the target. "
      ],
      "metadata": {
        "id": "hj8Na4qfYGEz"
      }
    },
    {
      "cell_type": "code",
      "source": [
        "class Solution(object):\n",
        "    def twoSum(self, numbers, target):\n",
        "        visited = {}\n",
        "        for index, number in enumerate(numbers):\n",
        "            other = target - number\n",
        "            if other in visited:\n",
        "                return [visited[other]+1, index+1]\n",
        "            visited[number] = index"
      ],
      "metadata": {
        "id": "l9AI_2ivYq1P"
      },
      "execution_count": null,
      "outputs": []
    },
    {
      "cell_type": "markdown",
      "source": [
        "##Idea 2\n",
        "\n",
        "- In the above solution, I didn't make use the fact that it was already in ascending order [also, \"non-decreasing\" just means ascending, but with duplicate values next to each other]\n",
        "- So I used two pointers, one from front and one from the back.\n",
        "- If I added them, and the sum came to be more than target, I moved the right pointer one step before [idea is that right will be heavier, and the next new sum will be less heavier]\n",
        "- If I added them, and the sum came to be less than target, I moved the left pointer one step ahead [idea is that left will be lighter, and next new sum will be more heavier]\n"
      ],
      "metadata": {
        "id": "zfFGKfeUYvP5"
      }
    },
    {
      "cell_type": "code",
      "source": [
        "class Solution(object):\n",
        "    def twoSum(self, numbers, target):\n",
        "        \n",
        "        left = 0\n",
        "        right = len(numbers) - 1\n",
        "        \n",
        "        while(left != right):\n",
        "            left_value = numbers[left]\n",
        "            right_value = numbers[right]\n",
        "            \n",
        "            if left_value + right_value > target:\n",
        "                right -= 1\n",
        "            elif left_value + right_value < target:\n",
        "                left += 1\n",
        "            else:\n",
        "                return [left+1, right+1]"
      ],
      "metadata": {
        "id": "HH7p11x8Zw_Y"
      },
      "execution_count": null,
      "outputs": []
    },
    {
      "cell_type": "markdown",
      "source": [
        "## Idea 3\n",
        "\n",
        "- Since it is sorted, why not use binary search **[ Warning: this was the slowest of above two]** Since it will be *O(n * log n)*, the previous two ideas were *O(n)*\n",
        "- Every time you encounter a new element during the iteration, binary search for the new target element also\n",
        "\n"
      ],
      "metadata": {
        "id": "XpNU_S96Z1x0"
      }
    },
    {
      "cell_type": "code",
      "source": [
        "class Solution(object):\n",
        "    def twoSum(self, numbers, target):\n",
        "        for index, number in enumerate(numbers):\n",
        "            \n",
        "            left, right = index+1, len(numbers)-1\n",
        "            other = target - number\n",
        "            \n",
        "            while (left <= right):\n",
        "                mid = left + (right-left) //2\n",
        "                \n",
        "                if numbers[mid] == other:\n",
        "                    return [index+1, mid+1]\n",
        "                elif numbers[mid] < other:\n",
        "                    left = mid+1\n",
        "                else:\n",
        "                    right = mid-1"
      ],
      "metadata": {
        "id": "vbOKnp_abCLm"
      },
      "execution_count": null,
      "outputs": []
    },
    {
      "cell_type": "markdown",
      "source": [
        "#Mistake\n",
        "\n",
        "- While writing binary search, I wrote while left != right, instead of left <= right. That is a *huge* mistake."
      ],
      "metadata": {
        "id": "fB-AW9jxbsUT"
      }
    }
  ]
}